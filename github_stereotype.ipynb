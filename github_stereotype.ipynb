{
  "nbformat": 4,
  "nbformat_minor": 0,
  "metadata": {
    "colab": {
      "name": "github-stereotype-public.ipynb",
      "provenance": [],
      "collapsed_sections": []
    },
    "kernelspec": {
      "name": "python3",
      "display_name": "Python 3"
    }
  },
  "cells": [
    {
      "cell_type": "markdown",
      "metadata": {
        "id": "7sY0cc1BNVG5",
        "colab_type": "text"
      },
      "source": [
        "#### Imports"
      ]
    },
    {
      "cell_type": "code",
      "metadata": {
        "id": "h1oympnkHgJ0",
        "colab_type": "code",
        "colab": {}
      },
      "source": [
        "import urllib.request\n",
        "import re, pickle, os, json\n",
        "import numpy as np\n",
        "\n",
        "from PIL import Image\n",
        "import requests\n",
        "from skimage import io\n",
        "\n",
        "import seaborn as sns\n",
        "import pandas as pd\n",
        "import matplotlib.pyplot as plt\n",
        "\n",
        "from azure.cognitiveservices.vision.face import FaceClient\n",
        "from msrest.authentication import CognitiveServicesCredentials"
      ],
      "execution_count": 0,
      "outputs": []
    },
    {
      "cell_type": "markdown",
      "metadata": {
        "id": "EzKa5arpHm_F",
        "colab_type": "text"
      },
      "source": [
        "#### Code"
      ]
    },
    {
      "cell_type": "code",
      "metadata": {
        "id": "JuXf7ykDHugd",
        "colab_type": "code",
        "colab": {}
      },
      "source": [
        "KEY = os.environ['FACE_SUBSCRIPTION_KEY']\n",
        "ENDPOINT = os.environ['FACE_ENDPOINT']\n",
        "face_client = FaceClient(ENDPOINT, CognitiveServicesCredentials(KEY))"
      ],
      "execution_count": 0,
      "outputs": []
    },
    {
      "cell_type": "code",
      "metadata": {
        "id": "DgwPhdMyHz5O",
        "colab_type": "code",
        "colab": {}
      },
      "source": [
        "def dict_face(detected_faces, url):\n",
        "  att_dict = {'face': True}\n",
        "  for face in detected_faces: \n",
        "    att_dict['url'] = str(url)\n",
        "    att_dict['age'] = int(face.face_attributes.age)\n",
        "    att_dict['gender'] = str(face.face_attributes.gender).split('.')[-1]\n",
        "    att_dict['smile'] = float(face.face_attributes.smile)\n",
        "    att_dict['facial_hair'] = face.face_attributes.facial_hair.__dict__\n",
        "    att_dict['glasses'] = str(face.face_attributes.glasses).split('.')[-1]\n",
        "    att_dict['emotion'] = face.face_attributes.emotion.__dict__\n",
        "    att_dict['bald'] = float(face.face_attributes.hair.bald)\n",
        "    att_dict['hair_color'] = [(str(hair.color).split('.')[-1], float(hair.confidence)) for hair in face.face_attributes.hair.hair_color] \n",
        "    att_dict['makeup'] = face.face_attributes.makeup.__dict__\n",
        "\n",
        "  return att_dict\n",
        "\n",
        "def get_face(url):\n",
        "\tsingle_image_name = os.path.basename(url)\n",
        "\tface_attributes = ['age', 'gender', 'smile', 'facialHair', 'glasses', 'emotion', 'hair', 'makeup']\n",
        "\ttry:\n",
        "\t\tdetected_faces = face_client.face.detect_with_url(url=url, return_face_attributes=face_attributes)\n",
        "\t\tif not detected_faces:\n",
        "\t\t\treturn {'face': False}\n",
        "\t\t\t# raise Exception('No face detected from image {}'.format(single_image_name))\n",
        "\texcept:\n",
        "\t\treturn {'face': False}\n",
        "\t\n",
        "\treturn dict_face(detected_faces, url)\t\n"
      ],
      "execution_count": 0,
      "outputs": []
    },
    {
      "cell_type": "code",
      "metadata": {
        "id": "jm5WCrHXJhwc",
        "colab_type": "code",
        "colab": {}
      },
      "source": [
        "emocoes = {'anger': 'Raiva', 'contempt': 'Desprezo', 'disgust': 'Nojo', 'fear': 'Medo',\n",
        "           'happiness': 'Felicidade', 'neutral': 'Neutro', 'sadness': 'Tristeza', 'surprise': 'Surpresa'}\n",
        "\n",
        "gender = {'male':0, 'female':1}\n",
        "glasses = {'no_glasses': 0, 'reading_glasses':1, 'sunglasses': 2, 'swimming_goggles':3}\n",
        "emotions = {'Desprezo': 7,'Felicidade': 1,'Medo': 6,'Neutro': 2,'Raiva': 4,'Surpresa': 3,'Tristeza': 5,np.nan: 0}\n",
        "color = {'brown':0, 'black':1, 'blond':2, 'gray':3, 'other':4, 'red':5}\n",
        "\n",
        "def att2feat(att):\n",
        "  row = {}\n",
        "\n",
        "  row['Idade'] = att['age']\n",
        "  row['Gênero'] = gender[att['gender']]\n",
        "  row['Sorriso'] = att['smile']\n",
        "\n",
        "  bigode, barba, costeleta = att['facial_hair']['moustache'], att['facial_hair']['beard'], att['facial_hair']['sideburns'] \n",
        "  row['Pêlos Faciais'] = (bigode + barba + costeleta)/3.0\n",
        "  row['Bigode'] = (bigode)\n",
        "  row['Barba'] = (barba)\n",
        "  row['Costeleta'] = (costeleta)\n",
        "\n",
        "  row['Óculos'] = glasses[att['glasses']]\n",
        "  keys, values = list(att['emotion'].keys())[1:], list(att['emotion'].values())[1:]\n",
        "  emotion = keys[np.argmax(values)] \n",
        "  row['Emoção'] = emotions[emocoes[emotion]] \n",
        "\n",
        "  row['Careca'] = att['bald']\n",
        "  if len(att['hair_color']) > 0:\n",
        "    row['Cor de cabelo'] = color[max(att['hair_color'],key=lambda item:item[1])[0]]\n",
        "  else: row['Cor de cabelo'] = 0\n",
        "  \n",
        "  row['Maquiagem'] = (att['makeup']['eye_makeup'] + att['makeup']['lip_makeup'])/2.0\n",
        "\n",
        "  row = pd.Series(row)\n",
        "  return np.array(row.values)\n"
      ],
      "execution_count": 0,
      "outputs": []
    },
    {
      "cell_type": "code",
      "metadata": {
        "id": "GoejSKnGKE7p",
        "colab_type": "code",
        "colab": {}
      },
      "source": [
        "import anvil.server\n",
        "anvil.server.connect(os.environ['ANVIL_KEY'])\n",
        "\n",
        "with open('bayes_model.pkl', 'rb') as fp:\n",
        "  clf = pickle.load(fp)\n",
        "\n",
        "with open('linguagens.txt', 'r') as fp:\n",
        "  linguagens = json.loads(fp.read())"
      ],
      "execution_count": 0,
      "outputs": []
    },
    {
      "cell_type": "code",
      "metadata": {
        "id": "Eth0JW5fJO3H",
        "colab_type": "code",
        "colab": {}
      },
      "source": [
        "@anvil.server.callable\n",
        "def run(url):\n",
        "  face = get_face(url)\n",
        "  img = io.imread(url)\n",
        "\n",
        "  if face['face'] == False:\n",
        "    return img, face, None\n",
        "  \n",
        "  feat = att2feat(face)\n",
        "\n",
        "  probs  = clf.predict_proba( feat[np.newaxis,:] )\n",
        "  best_n = np.argsort(probs, axis=1)[:,-5:]\n",
        "  topk   = [linguagens[str(n)] for n in best_n[0]]\n",
        "\n",
        "  return img, face, topk"
      ],
      "execution_count": 0,
      "outputs": []
    }
  ]
}